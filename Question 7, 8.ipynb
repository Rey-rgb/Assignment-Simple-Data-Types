{
 "cells": [
  {
   "cell_type": "code",
   "execution_count": 4,
   "id": "3c68eb27",
   "metadata": {},
   "outputs": [
    {
     "name": "stdout",
     "output_type": "stream",
     "text": [
      "<class 'int'>\n"
     ]
    }
   ],
   "source": [
    "# Question 7\n",
    "# Jack has been prescribed 5 medications, write a variable named \"Medication\", and store in it the number of medications he has. \n",
    "# Print the type of the variable ''Medication\". \n",
    "# Submit your code either here as a text entry, or on your GitHub page in a new repository and past the link here. \n",
    "# We encourage you to use GitHub. Don't forget to add comments to your code.\n",
    "\n",
    "\n",
    "#number of medications Jack has\n",
    "Medication=5\n",
    "\n",
    "#print the type of the variable Medication\n",
    "print(type(Medication))"
   ]
  },
  {
   "cell_type": "code",
   "execution_count": 7,
   "id": "2eebbfca",
   "metadata": {},
   "outputs": [
    {
     "name": "stdout",
     "output_type": "stream",
     "text": [
      "24.034609838166958\n"
     ]
    }
   ],
   "source": [
    "# Question 8\n",
    "# Susan has a weight of 60 kilograms and a height of 1.58 meters. \n",
    "# Write Code to Calculate and Print Susan’s Body Mass Index as float. \n",
    "# Note: Body Mass Index is a person’s weight in kilograms divided by the square of height in meters. \n",
    "# Reference: https://www.cdc.gov/healthyweight/assessing/bmi/adult_bmi/index.htmlLinks to an external site.. \n",
    "# Submit your code either here as a text entry, or on your GitHub page in a new repository and past the link here. \n",
    "# We encourage you to use GitHub. Don't forget to add comments to your code.\n",
    "\n",
    "#Susan's weight\n",
    "Weight = 60\n",
    "\n",
    "#Susan's height\n",
    "Height = 1.58 \n",
    "\n",
    "\n",
    "#Susan's weight and height in BMI formula\n",
    "BMI = Weight/(Height)**2 \n",
    "\n",
    "\n",
    "print(BMI)"
   ]
  }
 ],
 "metadata": {
  "kernelspec": {
   "display_name": "Python 3 (ipykernel)",
   "language": "python",
   "name": "python3"
  },
  "language_info": {
   "codemirror_mode": {
    "name": "ipython",
    "version": 3
   },
   "file_extension": ".py",
   "mimetype": "text/x-python",
   "name": "python",
   "nbconvert_exporter": "python",
   "pygments_lexer": "ipython3",
   "version": "3.9.7"
  }
 },
 "nbformat": 4,
 "nbformat_minor": 5
}
